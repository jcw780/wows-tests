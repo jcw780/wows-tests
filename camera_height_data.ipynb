{
 "cells": [
  {
   "cell_type": "code",
   "execution_count": 4,
   "metadata": {},
   "outputs": [],
   "source": [
    "import numpy as np\n",
    "import pandas as pd\n",
    "import matplotlib.pyplot as plt"
   ]
  },
  {
   "cell_type": "code",
   "execution_count": 5,
   "metadata": {},
   "outputs": [],
   "source": [
    "sniper_vehicle_pos = np.array([25.193, 0, 213.275])\n",
    "sniper_view = np.array([\n",
    "    ((-417.286,            0, -733.665), ( 23.486, 42.8773, 217.663)),\n",
    "    ((-327.837,            0, -541.508), ( 23.579, 33.0942, 217.865)),\n",
    "    ((-258.758, -1.90735e-06, -390.335), (23.6671, 24.5167, 218.052)),\n",
    "    ((-187.878,            0, -238.925), (23.7372,  16.762, 218.206)),\n",
    "    ((-117.951,            0,  -88.317), (23.7996, 9.35015, 218.343)),\n",
    "    ((-47.8324,            0,  63.4603), (23.8362, 3.97848, 218.421)),\n",
    "    ((-5.72779,  1.19209e-07,  154.342), ( 23.847, 1.92603, 218.448)),\n",
    "])\n",
    "#print(sniper_view)\n",
    "\n",
    "spotter_vehicle_pos = np.array([25.193, 0, 213.275])\n",
    "spotter_view = np.array([\n",
    "    ((-864.161,           0, -672.131), (-33.2555, 445.423, 160.555)),\n",
    "    ((-690.788, 3.05176e-05, -484.556), (-22.0896, 355.345, 172.625)),\n",
    "    ((-571.391,           0, -368.326), (0.157791, 235.716, 194.446)),\n",
    "    ((-450.588,           0, -253.499), ( 14.2098, 137.398, 208.202)),\n",
    "    ((-332.975,           0, -135.336), ( 21.1797, 66.5428, 215.134)),\n",
    "    ((-213.871,           0, -18.7991), ( 23.7218,   23.84, 217.652)),\n",
    "    ((-96.3798,           0,  98.8308), ( 24.2724,  5.1311, 218.194)),\n",
    "    ((-25.3094,           0,  169.408), ( 24.3145, 2.11544, 218.231)),    \n",
    "])\n",
    "#print(spotter_view)"
   ]
  },
  {
   "cell_type": "code",
   "execution_count": 17,
   "metadata": {},
   "outputs": [
    {
     "name": "stdout",
     "output_type": "stream",
     "text": [
      "       distance     angle\n",
      "0  31356.573890  2.349088\n",
      "1  24997.895955  2.274386\n",
      "2  20011.893520  2.104856\n",
      "3  14996.522328  1.920510\n",
      "4  10015.145794  1.604322\n",
      "5   4999.943804  1.367456\n",
      "6   1996.565644  1.657685\n",
      "       distance      angle\n",
      "0  37648.438081  19.541476\n",
      "1  29993.952844  19.566058\n",
      "2  24995.098980  15.796986\n",
      "3  19995.523857  11.647967\n",
      "4  14994.417327   7.583486\n",
      "5   9995.448243   4.092685\n",
      "6   5008.959827   1.760233\n",
      "7   2006.819744   1.811305\n"
     ]
    }
   ],
   "source": [
    "def generate_distance_angles(vehicle_pos, view_data):\n",
    "    distance_bw = np.sqrt(np.sum(np.square(vehicle_pos - view_data[:,0,:]), axis=1))\n",
    "    distance = distance_bw * 30\n",
    "\n",
    "    y_diff_bw = view_data[:,1,1] - view_data[:,0,1]\n",
    "    angle = np.degrees(np.arctan(y_diff_bw / distance_bw))\n",
    "\n",
    "    return (distance, angle)\n",
    "\n",
    "sniper_dist, sniper_angle = generate_distance_angles(sniper_vehicle_pos, sniper_view)\n",
    "spotter_dist, spotter_angle = generate_distance_angles(spotter_vehicle_pos, spotter_view)\n",
    "\n",
    "sniper_data = pd.DataFrame({'distance': sniper_dist, 'angle': sniper_angle})\n",
    "spotter_data = pd.DataFrame({'distance': spotter_dist, 'angle': spotter_angle})\n",
    "\n",
    "print(sniper_data)\n",
    "print(spotter_data)"
   ]
  },
  {
   "cell_type": "code",
   "execution_count": 37,
   "metadata": {},
   "outputs": [
    {
     "data": {
      "image/png": "[encoded data removed]",
      "text/plain": [
       "<Figure size 720x360 with 1 Axes>"
      ]
     },
     "metadata": {},
     "output_type": "display_data"
    }
   ],
   "source": [
    "plt.rcParams['figure.figsize'] = [10, 5]\n",
    "\n",
    "fig, ax = plt.subplots(1,1)\n",
    "fig.patch.set_facecolor('white')\n",
    "\n",
    "ax.xaxis.set_major_locator(plt.MultipleLocator(1))\n",
    "\n",
    "ax.set_xlabel('Range (m)')\n",
    "ax.set_ylabel('Angle')\n",
    "\n",
    "ax.plot(sniper_data['distance']/1000, sniper_data['angle'], marker='o', label='sniper')\n",
    "ax.plot(spotter_data['distance']/1000, spotter_data['angle'], marker='o', label='spotter')\n",
    "\n",
    "ax.legend()\n",
    "plt.show()"
   ]
  }
 ],
 "metadata": {
  "interpreter": {
   "hash": "bd4c67ef142469da7dc4d338a32ac40116904d26076b8e6aa587d80720bc6a2b"
  },
  "kernelspec": {
   "display_name": "Python 3.9.7 64-bit",
   "language": "python",
   "name": "python3"
  },
  "language_info": {
   "codemirror_mode": {
    "name": "ipython",
    "version": 3
   },
   "file_extension": ".py",
   "mimetype": "text/x-python",
   "name": "python",
   "nbconvert_exporter": "python",
   "pygments_lexer": "ipython3",
   "version": "3.9.7"
  },
  "orig_nbformat": 4
 },
 "nbformat": 4,
 "nbformat_minor": 2
}
